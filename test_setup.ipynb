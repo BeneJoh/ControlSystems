{
 "cells": [
  {
   "cell_type": "markdown",
   "metadata": {},
   "source": [
    "# Test file \n",
    "Try to run the following code. For help, we refer to https://code.visualstudio.com/docs/datascience/jupyter-notebooks ."
   ]
  },
  {
   "cell_type": "code",
   "execution_count": 1,
   "metadata": {},
   "outputs": [
    {
     "name": "stdout",
     "output_type": "stream",
     "text": [
      "Success: Loaded packages\n",
      "Success: Loaded classes\n",
      "Success: Loaded cable car controller\n",
      "-> Ready to go\n"
     ]
    }
   ],
   "source": [
    "import numpy as np\n",
    "import matplotlib.pyplot as plt \n",
    "import control as ct\n",
    "\n",
    "print(\"Success: Loaded packages\")\n",
    "\n",
    "from source.cablecar_model import cablecar_ode, cablecar_output\n",
    "print(\"Success: Loaded classes\")\n",
    "\n",
    "import source.eins_controller\n",
    "print(\"Success: Loaded cable car controller\")\n",
    "\n",
    "print(\"-> Ready to go\")"
   ]
  }
 ],
 "metadata": {
  "kernelspec": {
   "display_name": ".venv",
   "language": "python",
   "name": "python3"
  },
  "language_info": {
   "codemirror_mode": {
    "name": "ipython",
    "version": 3
   },
   "file_extension": ".py",
   "mimetype": "text/x-python",
   "name": "python",
   "nbconvert_exporter": "python",
   "pygments_lexer": "ipython3",
   "version": "3.11.5"
  }
 },
 "nbformat": 4,
 "nbformat_minor": 2
}
