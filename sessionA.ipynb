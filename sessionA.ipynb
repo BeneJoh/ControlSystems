{
 "cells": [
  {
   "cell_type": "markdown",
   "metadata": {},
   "source": [
    "# Control Systems Tutorial \n",
    "## Part A: Cable car dynamics"
   ]
  },
  {
   "cell_type": "markdown",
   "metadata": {},
   "source": [
    "### The cable car model\n",
    "The cable car has four states associated with the slider position and the angle of its suspension cable. The differential equation with states $(\\varphi, \\omega, x, v)\\in [0, 2\\pi) \\times \\mathbb{R}^3$ reads\n",
    "$$\\begin{align*}\n",
    "M \\ddot{x} &=  -\\gamma \\dot{x} - T(\\varphi, \\dot{\\varphi}, \\ddot{x}) \\sin \\varphi + F_\\mathrm{c}\\\\\n",
    "m \\ddot{\\varphi} &= -mg/l \\sin \\varphi + \\cos \\varphi \\cdot \\ddot{x} m\n",
    "\\end{align*}$$\n",
    "where $v = \\dot{x}$, $\\omega = \\dot{\\varphi}$. \n",
    "The line tension is $$ T(\\varphi, \\dot{\\varphi}, \\ddot{x}) = mg \\cos\\varphi + m l \\dot{\\varphi}^2 - m l \\ddot{x} \\sin \\varphi$$"
   ]
  },
  {
   "cell_type": "code",
   "execution_count": 42,
   "metadata": {},
   "outputs": [],
   "source": [
    "import numpy as np\n",
    "import matplotlib.pyplot as plt \n",
    "import control as ct\n",
    "import control.optimal as opt\n",
    "# from scipy.integrate import solve_ivp\n",
    "from source.cablecar_model import cablecar_ode, cablecar_output\n",
    "\n",
    "# System parameters \n",
    "M = 0.5; m1 = 0.02; m2 = 0.08; l = 0.2; g = 9.81; b1 = 4; b2 = 2; r = 0.02\n",
    "\n",
    "cablecar_params = {\n",
    "    \"M\": M,           # mass of the trolley\n",
    "    \"m1\": m1,         # mass of the cable car\n",
    "    \"m2\": m2,         # mass of pendulum rod\n",
    "    \"l\": l,         # length of the suspension cable\n",
    "    \"g\": g,         # gravitational acceleration\n",
    "    \"b1\": b1,       # damping of the slider\n",
    "    \"b2\": b2,       # damping of the cable car\n",
    "    \"r\" : r         # ??\n",
    "}\n",
    "\n",
    "cablecar_sys = ct.nlsys(\n",
    "    cablecar_ode, cablecar_output, name='cablecar',\n",
    "    params=cablecar_params, states=['theta', 'omega', 'x', 'v'],\n",
    "    outputs=['x', 'v'], inputs=['F'])"
   ]
  },
  {
   "cell_type": "code",
   "execution_count": 43,
   "metadata": {},
   "outputs": [
    {
     "name": "stdout",
     "output_type": "stream",
     "text": [
      "Stable steady state at x\n"
     ]
    }
   ],
   "source": [
    "# Stable Steady state phase angle (analytical solution)\n",
    "\n",
    "print(f\"Stable steady state at x\")\n",
    "xeq, ueq = ct.find_operating_point(cablecar_sys, [0.0, 0.0, 0.0, 0.0], [0.0])"
   ]
  },
  {
   "cell_type": "code",
   "execution_count": null,
   "metadata": {},
   "outputs": [
    {
     "data": {
      "text/plain": [
       "array([ 0.00000000e+00, -1.84945349e+03, -3.33265964e+00, -2.94305208e-02])"
      ]
     },
     "execution_count": 48,
     "metadata": {},
     "output_type": "execute_result"
    }
   ],
   "source": [
    "# Linearisation of the system around the stable steady state\n",
    "\n",
    "cablecar_sys_linear = ct.linearize(cablecar_sys, xeq, ueq) \n",
    "np.linalg.eigvals(cablecar_sys_linear.A) # check eigenvalues of the linearised system"
   ]
  },
  {
   "cell_type": "code",
   "execution_count": 45,
   "metadata": {},
   "outputs": [],
   "source": [
    "timepts = np.linspace(0, 10, 100)  # time points for simulation\n",
    "# Input signal U (force) =1 until t=5, then 0\n",
    "U = np.where(timepts <= 1, 0.1, 0.0)\n",
    "\n",
    "resp = ct.input_output_response(cablecar_sys, timepts, U, xeq, cablecar_params)"
   ]
  },
  {
   "cell_type": "code",
   "execution_count": 46,
   "metadata": {},
   "outputs": [
    {
     "data": {
      "image/png": "[encoded data removed]",
      "text/plain": [
       "<Figure size 640x480 with 3 Axes>"
      ]
     },
     "metadata": {},
     "output_type": "display_data"
    }
   ],
   "source": [
    "cplt = resp.plot()"
   ]
  },
  {
   "cell_type": "code",
   "execution_count": null,
   "metadata": {},
   "outputs": [],
   "source": [
    "# Phase portrait of the system"
   ]
  },
  {
   "cell_type": "code",
   "execution_count": null,
   "metadata": {},
   "outputs": [],
   "source": [
    "def control_output(t, x, z, params):\n",
    "    # Get the parameters for the model\n",
    "    K = params.get('K', np.zeros((2, 3)))   # nominal gain\n",
    "\n",
    "    # Split up the input to the controller into the desired state and nominal input\n",
    "    xd_vec = z[0]    # desired position ('x*')\n",
    "    ud_vec = 0.0    # nominal input \n",
    "    x_vec = z[1]     # current state ('x')\n",
    "\n",
    "    # Compute the control law\n",
    "    return ud_vec - K @ (x_vec - xd_vec)"
   ]
  },
  {
   "cell_type": "code",
   "execution_count": null,
   "metadata": {},
   "outputs": [],
   "source": [
    "# Define the controller system\n",
    "K = 10.0\n",
    "cablecar_control = ct.nlsys(\n",
    "    None, control_output, name='control',\n",
    "    inputs=['x', 'v'],\n",
    "    outputs=['F'], params={'K': K})"
   ]
  },
  {
   "cell_type": "code",
   "execution_count": null,
   "metadata": {},
   "outputs": [],
   "source": [
    "# Build the closed loop system\n",
    "vehicle_closed = ct.interconnect(\n",
    "    (cablecar_sys, cablecar_control),\n",
    "    inputs=['xd', 'yd', 'thetad', 'vd', 'deltad'],\n",
    "    outputs=['x', 'y', 'theta']\n",
    ")\n"
   ]
  },
  {
   "cell_type": "markdown",
   "metadata": {},
   "source": [
    "### Control Design"
   ]
  },
  {
   "cell_type": "markdown",
   "metadata": {},
   "source": [
    "### Optimization-based control "
   ]
  },
  {
   "cell_type": "code",
   "execution_count": null,
   "metadata": {},
   "outputs": [],
   "source": [
    "# Optimal trajectory calculation\n",
    "res = opt.solve_optimal_trajectory(sys, timepts, X0, cost, constraints)"
   ]
  }
 ],
 "metadata": {
  "kernelspec": {
   "display_name": ".venv (3.13.2)",
   "language": "python",
   "name": "python3"
  },
  "language_info": {
   "codemirror_mode": {
    "name": "ipython",
    "version": 3
   },
   "file_extension": ".py",
   "mimetype": "text/x-python",
   "name": "python",
   "nbconvert_exporter": "python",
   "pygments_lexer": "ipython3",
   "version": "3.13.2"
  }
 },
 "nbformat": 4,
 "nbformat_minor": 2
}
