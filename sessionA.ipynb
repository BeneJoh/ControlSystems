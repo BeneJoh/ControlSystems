{
 "cells": [
  {
   "cell_type": "markdown",
   "metadata": {},
   "source": [
    "# Control Systems Tutorial \n",
    "## Part A: Cable car dynamics"
   ]
  },
  {
   "cell_type": "markdown",
   "metadata": {},
   "source": [
    "### The cable car model\n",
    "The cable car has four states associated with the slider position and the angle of its suspension cable. The differential equation with states $(\\varphi, \\omega, x, v)\\in [0, 2\\pi) \\times \\mathbb{R}^3$ reads\n",
    "$$\\begin{align*}\n",
    "M \\ddot{x} &=  -\\gamma \\dot{x} - T(\\varphi, \\dot{\\varphi}, \\ddot{x}) \\sin \\varphi + F_\\mathrm{c}\\\\\n",
    "m \\ddot{\\varphi} &= -mg/l \\sin \\varphi + \\cos \\varphi \\cdot \\ddot{x} m\n",
    "\\end{align*}$$\n",
    "where $v = \\dot{x}$, $\\omega = \\dot{\\varphi}$. \n",
    "The line tension is $$ T(\\varphi, \\dot{\\varphi}, \\ddot{x}) = mg \\cos\\varphi + m l \\dot{\\varphi}^2 - m l \\ddot{x} \\sin \\varphi$$"
   ]
  },
  {
   "cell_type": "code",
   "execution_count": null,
   "metadata": {},
   "outputs": [],
   "source": [
    "%load_ext autoreload\n",
    "%autoreload 2"
   ]
  },
  {
   "cell_type": "code",
   "execution_count": null,
   "metadata": {},
   "outputs": [],
   "source": [
    "import numpy as np\n",
    "import matplotlib.pyplot as plt \n",
    "import control as ct\n",
    "import control.optimal as opt\n",
    "# from scipy.integrate import solve_ivp\n",
    "from source.cablecar_model import cablecar_ode, cablecar_smallangle_ode, cablecar_output\n",
    "\n",
    "# System parameters \n",
    "M = 100; m = 900; l = 5.0; g = 9.81; gammax = 20.0; gammaphi = 2.0\n",
    "\n",
    "cablecar_params = {\n",
    "    \"M\": M,           # mass of the slider\n",
    "    \"m\": m,         # mass of the cable car\n",
    "    \"l\": l,         # length of the suspension cable\n",
    "    \"g\": g,         # gravitational acceleration\n",
    "    \"gammax\": gammax,       # damping of the slider\n",
    "    \"gammaphi\": gammaphi,       # damping of the cable car\n",
    "}\n",
    "\n",
    "cablecar_sys = ct.nlsys(\n",
    "    cablecar_ode, cablecar_output, name='cablecar',\n",
    "    params=cablecar_params, states=['phi', 'omega', 'x', 'v'],\n",
    "    outputs=['phi', 'omega', 'x', 'v'], inputs=['F'])\n",
    "cablecar_smallangle_sys = ct.nlsys(\n",
    "    cablecar_smallangle_ode, cablecar_output, name='cablecar',\n",
    "    params=cablecar_params, states=['phi', 'omega', 'x', 'v'],\n",
    "    outputs=['phi', 'omega', 'x', 'v'], inputs=['F'])"
   ]
  },
  {
   "cell_type": "markdown",
   "metadata": {},
   "source": [
    "### Task 1: Steady states and Phase Portrait\n",
    "Determine the steady state(s) analytically. For this, set the differential equations to zero and determine if they are stable. "
   ]
  },
  {
   "cell_type": "markdown",
   "metadata": {},
   "source": [
    "**Proceed with pen and paper** \n",
    "\n",
    "Now, plot the reduced phase-portrait spanned by $(\\theta, \\omega)$ keeping $x, v$ at zero. Employ `phase_plane_plot` on a self-defined `cablecar_reduced_ode`. How many equilibria are there? "
   ]
  },
  {
   "cell_type": "code",
   "execution_count": null,
   "metadata": {},
   "outputs": [],
   "source": [
    "# define reduced system ode\n",
    "cablecar_reduced_ode = ....\n",
    "# Phase portrait of the reduced system / pendulum \n",
    "axis_limits = [-np.pi, np.pi, -4, 4]\n",
    "ct.phase_plane_plot(cablecar_reduced_ode, axis_limits,  title='')"
   ]
  },
  {
   "cell_type": "markdown",
   "metadata": {},
   "source": [
    "The control systems toolbox provides various functions which facilitate the analysis. First, the operating point can be derived with `ct.find_operating_point`. Use it to check your analytical solution. "
   ]
  },
  {
   "cell_type": "code",
   "execution_count": null,
   "metadata": {},
   "outputs": [],
   "source": [
    "# Your solution"
   ]
  },
  {
   "cell_type": "markdown",
   "metadata": {},
   "source": [
    "### Task 2: Linearised System Dynamics\n",
    "Linearise the system's equations of motion with `ct.linearize`. Do this at the stable equilibrium point and for zero control action. Then, compare response dynamics `resp_nonlinear` and `resp_linear` obtained with `input_output_response` for the step function `Ustep` input given below.  "
   ]
  },
  {
   "cell_type": "code",
   "execution_count": null,
   "metadata": {},
   "outputs": [],
   "source": [
    "# Your solution "
   ]
  },
  {
   "cell_type": "code",
   "execution_count": null,
   "metadata": {},
   "outputs": [],
   "source": [
    "tmax = 100.0 \n",
    "timepts = np.linspace(0, tmax, int(tmax * 1000))  # time points for simulation\n",
    "# Input signal Ustep (force) =1 until t=5, then 0\n",
    "t_step = 1.0; amp_step = 5000.0 \n",
    "U_step = np.where(timepts <= t_step, amp_step, 0.0)"
   ]
  },
  {
   "cell_type": "code",
   "execution_count": null,
   "metadata": {},
   "outputs": [],
   "source": [
    "# Your solution"
   ]
  },
  {
   "cell_type": "code",
   "execution_count": null,
   "metadata": {},
   "outputs": [],
   "source": [
    "# Comparative plot of nonlinear and linear system response\n",
    "cplt = ct.combine_time_responses([resp_nonlinear, resp_linear], trace_labels=['Nonlinear', 'Linear']) \n",
    "cplt.plot()"
   ]
  },
  {
   "cell_type": "markdown",
   "metadata": {},
   "source": [
    "How is the reduced phase portrait of the linear system different from that of the non-linear system? "
   ]
  },
  {
   "cell_type": "markdown",
   "metadata": {},
   "source": [
    "### Task 3: Excitation of system resonance\n",
    "Today, we want to surprise our cable-car passengers with a dynamical adventure. Excite the cable-car system at its resonance frequency (with `forced_response`) and plot the time-series data. The resonance frequency can be obtained, e.g., with a Bode plot. "
   ]
  },
  {
   "cell_type": "code",
   "execution_count": null,
   "metadata": {},
   "outputs": [],
   "source": [
    "# Your solution "
   ]
  },
  {
   "cell_type": "code",
   "execution_count": null,
   "metadata": {},
   "outputs": [],
   "source": [
    "### Response analysis\n",
    "ts = np.linspace(0, 200, 200 * 1000) # time points for simulation\n",
    "\n",
    "# External Forcing: frequency and amplitude\n",
    "amp_force = 200.0\n",
    "freq_force = 1.4 / (2 * np.pi)  # in Hz\n",
    "input_force = [amp_force * np.sin(2 * np.pi * freq_force * t) for t in ts]"
   ]
  },
  {
   "cell_type": "code",
   "execution_count": null,
   "metadata": {},
   "outputs": [],
   "source": [
    "# Your solution \n",
    "forced_resp = ... "
   ]
  },
  {
   "cell_type": "code",
   "execution_count": null,
   "metadata": {},
   "outputs": [],
   "source": [
    "fig, axs = plt.subplots(1, 2, figsize=(12, 4))\n",
    "\n",
    "axs[0].plot(forced_resp.time, forced_resp.states[0] / np.pi)\n",
    "axs[0].set_xlabel(r't (s)')\n",
    "axs[0].set_ylabel(r'$\\phi / \\pi$')\n",
    "axs[0].set_title('Cable Car Angle Response')\n",
    "\n",
    "axs[1].plot(ts, input_force)\n",
    "axs[1].set_xlabel(r't (s)')\n",
    "axs[1].set_ylabel('Input Force (N)')\n",
    "axs[1].set_title('Excitation Force')\n",
    "\n",
    "plt.tight_layout()\n",
    "plt.show()"
   ]
  },
  {
   "cell_type": "markdown",
   "metadata": {},
   "source": [
    "### Task 4: Determine the impact of masses on the system \n",
    "Investigate the impact of the masses $m$, $M$ on the system stability with a root-locus diagram."
   ]
  },
  {
   "cell_type": "code",
   "execution_count": null,
   "metadata": {},
   "outputs": [],
   "source": [
    "nm= 10; m_list = np.linspace(100, 5000, nm)\n",
    "ls_list = np.zeros((4, nm), dtype=complex)  \n",
    "\n",
    "for (i, m_c) in enumerate(m_list): \n",
    "    cablecar_params_cur = cablecar_params.copy()\n",
    "    cablecar_params_cur['m'] = m_c  \n",
    "    cablecar_sys_cur = ct.nlsys(\n",
    "    cablecar_ode, cablecar_output, name='cablecar',\n",
    "    params=cablecar_params_cur, states=['phi', 'omega', 'x', 'v'],\n",
    "    outputs=['phi', 'omega', 'x', 'v'], inputs=['F'])\n",
    "    ls = ...\n",
    "    ls_list[:, i] = ls"
   ]
  },
  {
   "cell_type": "code",
   "execution_count": null,
   "metadata": {},
   "outputs": [],
   "source": [
    "plt.figure(figsize=(10, 6))\n",
    "for i in range(4):\n",
    "    plt.plot(ls_list[i,:].real, ls_list[i, :].imag, label=f'Eigenvalue {i+1}')\n",
    "    # plot initial points\n",
    "    plt.scatter(ls_list[i, 0].real, ls_list[i, 0].imag, color='red', marker='x')\n",
    "plt.xlabel('Real')\n",
    "plt.ylabel('Imag')\n",
    "# vertical line at 0\n",
    "plt.axvline(0, color='black', linestyle='--', linewidth=0.5)"
   ]
  }
 ],
 "metadata": {
  "kernelspec": {
   "display_name": ".venv (3.13.2)",
   "language": "python",
   "name": "python3"
  },
  "language_info": {
   "codemirror_mode": {
    "name": "ipython",
    "version": 3
   },
   "file_extension": ".py",
   "mimetype": "text/x-python",
   "name": "python",
   "nbconvert_exporter": "python",
   "pygments_lexer": "ipython3",
   "version": "3.13.2"
  }
 },
 "nbformat": 4,
 "nbformat_minor": 2
}
