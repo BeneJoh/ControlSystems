{
 "cells": [
  {
   "cell_type": "markdown",
   "metadata": {},
   "source": [
    "# Control Systems Tutorial \n",
    "## Part B: Control tuning"
   ]
  },
  {
   "cell_type": "code",
   "execution_count": null,
   "metadata": {},
   "outputs": [],
   "source": [
    "import numpy as np\n",
    "import matplotlib.pyplot as plt \n",
    "import control as ct\n",
    "import source.eins_controller as controller\n",
    "from source.cablecar_model import cablecar_ode, cablecar_output\n",
    "\n",
    "# System parameters \n",
    "M = 100; m = 900; l = 5.0; g = 9.81; gammax = 20.0; gammaphi = 2.0\n",
    "\n",
    "cablecar_params = {\n",
    "    \"M\": M,           # mass of the slider\n",
    "    \"m\": m,         # mass of the cable car\n",
    "    \"l\": l,         # length of the suspension cable\n",
    "    \"g\": g,         # gravitational acceleration\n",
    "    \"gammax\": gammax,       # damping of the slider\n",
    "    \"gammaphi\": gammaphi,       # damping of the cable car\n",
    "}\n",
    "\n",
    "cablecar_sys = ct.nlsys(\n",
    "    cablecar_ode, cablecar_output, name='cablecar',\n",
    "    params=cablecar_params, states=['phi', 'omega', 'x', 'v'],\n",
    "    outputs=['phi', 'omega', 'x', 'v'], inputs=['F'])\n",
    "\n",
    "x0, u0 = [-0.1, 0.0, 0.0, 0.0], [0.0]\n",
    "xeq, ueq = ct.find_operating_point(cablecar_sys, x0, u0)\n",
    "cablecar_sys_linear = ct.linearize(cablecar_sys, xeq, ueq) \n"
   ]
  },
  {
   "cell_type": "markdown",
   "metadata": {},
   "source": [
    "## Your overall task\n",
    "\n",
    "As engineers at the EINS cable car company, your mission is to design a position control system for cable cars.\n",
    "\n",
    "Your colleagues from Product Engineering have devised the following requirements for the control system:\n",
    "- Reach the terminal position so that passengers can safely exit.\n",
    "- Provide a pleasant cable car ride experience. Note: Cable cars are not roller coasters.\n",
    "- Be efficient in terms of control power and do not lead to excessive wear of the actuator.\n",
    "\n",
    "Although the product engineers did not specify it, remember that a control system that leads to an unstable system will not pass the testing stage."
   ]
  },
  {
   "cell_type": "markdown",
   "metadata": {},
   "source": [
    "### Manual tuning of PID\n",
    "\n",
    "__Task:__ Manually tune a PID controller to control the position of the cable car.\n",
    "\n",
    "#### System model \n",
    "\n",
    "First, we need to derive the transfer function of the linearized cable car model for the input force to output position.\n",
    "This means we need to compute\n",
    "\n",
    "$$ G(s)=c_{position}(sI-A)^{-1}b_{force} .$$"
   ]
  },
  {
   "cell_type": "markdown",
   "metadata": {},
   "source": [
    "#### Analyze the transfer function:\n",
    "*Transfer function*"
   ]
  },
  {
   "cell_type": "code",
   "execution_count": null,
   "metadata": {},
   "outputs": [],
   "source": [
    "\n",
    "cable_car_f2x= controller.siso_position(cablecar_sys_linear)\n",
    "print(cable_car_f2x)\n"
   ]
  },
  {
   "cell_type": "markdown",
   "metadata": {},
   "source": [
    "#### Define a PID controller by its transfer function"
   ]
  },
  {
   "cell_type": "code",
   "execution_count": null,
   "metadata": {},
   "outputs": [],
   "source": [
    "pid_sys = controller.pid_tf(1,1,1)\n",
    "print(pid_sys)\n"
   ]
  },
  {
   "cell_type": "markdown",
   "metadata": {},
   "source": [
    "#### Design a first controller"
   ]
  },
  {
   "cell_type": "code",
   "execution_count": null,
   "metadata": {},
   "outputs": [],
   "source": [
    "pid = controller.pid_tf(1,0,0)\n",
    "closed_sys = controller.close_siso_sys(cable_car_f2x, pid)\n",
    "y=controller.evaluate_step_response(closed_sys)[\"y_out\"]\n"
   ]
  },
  {
   "cell_type": "code",
   "execution_count": null,
   "metadata": {},
   "outputs": [],
   "source": [
    "T, e = ct.forced_response(pid, controller.DEFAULT_TIMEPTS, 1 - y)\n",
    "fig, axs = plt.subplots(2, 1, sharex=True, figsize=(8, 5))\n",
    "\n",
    "axs[0].plot(T, 1-y, 'b')\n",
    "axs[0].set_ylabel(\"Received Error e(t)\")\n",
    "axs[0].grid(True)\n",
    "axs[0].set_title(\"PID Controller received Error and Input\")\n",
    "axs[1].plot(T, e, 'r')\n",
    "axs[1].set_ylabel(\"Input u(t)\")\n",
    "axs[1].set_xlabel(\"Time [s]\")\n",
    "axs[1].grid(True)\n",
    "\n",
    "plt.tight_layout()\n",
    "plt.show()"
   ]
  },
  {
   "cell_type": "markdown",
   "metadata": {},
   "source": [
    "*Question:* Which influence does the constant $\\tau$ have on the PID controller?"
   ]
  },
  {
   "cell_type": "markdown",
   "metadata": {},
   "source": [
    "#### First test of PID position control\n",
    "\n",
    "__Test case:__ Follow the position trajectory $p(t)$\n",
    "\n",
    "$p(t) = \\min(t,20),t\\in[0,40]$\n",
    "\n",
    "__Settling time:__ We define the settling time as $T_{settle} \\in \\arg \\max t, \\text{s.t.} \\|x_{final} - x_{c,t}\\|_1 \\ge 0.01m$"
   ]
  },
  {
   "cell_type": "code",
   "execution_count": null,
   "metadata": {},
   "outputs": [],
   "source": [
    "y_out, _ =controller.analyze_pid_control(cable_car_f2x,pid)"
   ]
  },
  {
   "cell_type": "markdown",
   "metadata": {},
   "source": [
    "*Let us analyze the other states that are not controlled by the PID.*"
   ]
  },
  {
   "cell_type": "code",
   "execution_count": null,
   "metadata": {},
   "outputs": [],
   "source": [
    "controller.analyze_pid_misc_states(pid,cablecar_sys_linear, controller.DEFAULT_POS_TRAJECTORY-y_out)"
   ]
  },
  {
   "cell_type": "markdown",
   "metadata": {},
   "source": [
    "*Please mind the gap - PID Tuning again*: \n",
    "Maybe we indeeed need an $K_I > 0$..."
   ]
  },
  {
   "cell_type": "code",
   "execution_count": null,
   "metadata": {},
   "outputs": [],
   "source": [
    "pid = controller.pid_tf(1,0,0)\n",
    "y_out, _ =controller.analyze_pid_control(cable_car_f2x,pid)"
   ]
  },
  {
   "cell_type": "markdown",
   "metadata": {},
   "source": [
    "*Let us analyze the other states that are not controlled by the PID.*\n"
   ]
  },
  {
   "cell_type": "code",
   "execution_count": null,
   "metadata": {},
   "outputs": [],
   "source": [
    "controller.analyze_pid_misc_states(pid, cablecar_sys_linear, controller.DEFAULT_POS_TRAJECTORY-y_out)"
   ]
  },
  {
   "cell_type": "markdown",
   "metadata": {},
   "source": [
    "*Have we derived a properly working position control system?*"
   ]
  },
  {
   "cell_type": "markdown",
   "metadata": {},
   "source": [
    "### Analyzing the PID using root-locus curve\n",
    "\n",
    "What can we derive from the root locus curve? Will the performance improve if we increase all PID gains equally?"
   ]
  },
  {
   "cell_type": "code",
   "execution_count": null,
   "metadata": {},
   "outputs": [],
   "source": [
    "open_loop = cable_car_f2x*pid\n"
   ]
  },
  {
   "cell_type": "markdown",
   "metadata": {},
   "source": [
    "*Poles*"
   ]
  },
  {
   "cell_type": "code",
   "execution_count": null,
   "metadata": {},
   "outputs": [],
   "source": [
    "open_loop.poles()"
   ]
  },
  {
   "cell_type": "markdown",
   "metadata": {},
   "source": [
    "*Zeros*"
   ]
  },
  {
   "cell_type": "code",
   "execution_count": null,
   "metadata": {},
   "outputs": [],
   "source": [
    "open_loop.zeros()"
   ]
  },
  {
   "cell_type": "code",
   "execution_count": null,
   "metadata": {},
   "outputs": [],
   "source": [
    "ct.rlocus(open_loop)"
   ]
  },
  {
   "cell_type": "markdown",
   "metadata": {},
   "source": [
    "#### Conclusion\n",
    "\n",
    "It is difficult to tune the control performance using only pole placement because the relationship between poles and performance (e.g., overshoot and settling time) is not straightforward."
   ]
  },
  {
   "cell_type": "markdown",
   "metadata": {},
   "source": [
    "### Deployment of state-feedback controller using LQR\n",
    "\n",
    "Now, let's try devising a more effective controller using an optimal state-feedback controller. "
   ]
  },
  {
   "cell_type": "markdown",
   "metadata": {},
   "source": [
    "#### First we need to check if the system is controllable"
   ]
  },
  {
   "cell_type": "code",
   "execution_count": null,
   "metadata": {},
   "outputs": [],
   "source": [
    "# Controllability matrix\n",
    "sys = cablecar_sys_linear\n",
    "Co, rank_Co = controller.check_controllability(sys)"
   ]
  },
  {
   "cell_type": "markdown",
   "metadata": {},
   "source": [
    "*Conclusion:* Fortunately, the system is controllable. Therefore, we can begin designing our LQR controller. \n",
    "\n",
    "#### LQR design\n",
    "\n",
    "The LQR optimization problem\n",
    "\n",
    "$$\\begin{align*}\n",
    "\\min_{\\mathbf{u}} \\; & J = \\int_0^{\\infty} \\left( \\mathbf{x}^\\top \\mathbf{Q} \\mathbf{x} + \\mathbf{u}^\\top \\mathbf{R} \\mathbf{u} \\right) \\, dt \\\\\n",
    "\\text{given} \\quad & \\dot{\\mathbf{x}} = \\mathbf{A} \\mathbf{x} + \\mathbf{B} \\mathbf{u}\n",
    "\\end{align*}$$"
   ]
  },
  {
   "cell_type": "code",
   "execution_count": null,
   "metadata": {},
   "outputs": [],
   "source": [
    "Q = np.eye(sys.A.shape[0])\n",
    "R = 1\n",
    "clsys, K, S, E =controller.compute_lqr(sys, Q, R)\n",
    "resp_lqr = controller.resp_for_input(clsys)"
   ]
  },
  {
   "cell_type": "markdown",
   "metadata": {},
   "source": [
    "*Analyze the position control and its input*"
   ]
  },
  {
   "cell_type": "code",
   "execution_count": null,
   "metadata": {},
   "outputs": [],
   "source": [
    "controller.analyze_lqr_control(resp_lqr)\n"
   ]
  },
  {
   "cell_type": "markdown",
   "metadata": {},
   "source": [
    "*Analyze the other output states*"
   ]
  },
  {
   "cell_type": "code",
   "execution_count": null,
   "metadata": {},
   "outputs": [],
   "source": [
    "controller.analyze_lqr_misc_states(resp_lqr)"
   ]
  },
  {
   "cell_type": "markdown",
   "metadata": {},
   "source": [
    "*Are you satisfied with the controller's performance?* If not, change the $Q$ and $R$ matrices!"
   ]
  }
 ],
 "metadata": {
  "kernelspec": {
   "display_name": ".venv",
   "language": "python",
   "name": "python3"
  },
  "language_info": {
   "codemirror_mode": {
    "name": "ipython",
    "version": 3
   },
   "file_extension": ".py",
   "mimetype": "text/x-python",
   "name": "python",
   "nbconvert_exporter": "python",
   "pygments_lexer": "ipython3",
   "version": "3.11.5"
  }
 },
 "nbformat": 4,
 "nbformat_minor": 2
}
